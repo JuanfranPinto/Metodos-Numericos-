{
 "cells": [
  {
   "cell_type": "markdown",
   "id": "4ded25c4",
   "metadata": {},
   "source": [
    "<h3 style=\"text-align:center;\">ESCUELA POLITÉCNICA NACIONAL</h3>\n",
    "<h3 style=\"text-align:center;\">FACULTAD DE INGENIERÍA EN SISTEMAS</h3>\n",
    "<h3 style=\"text-align:center;\">METODOS NUMERICOS ICCD412 </h3>"
   ]
  },
  {
   "cell_type": "markdown",
   "id": "6128b9a0",
   "metadata": {},
   "source": [
    "*JUAN FRANCISCO PINTO ANDRANGO*\n",
    "\n",
    "*Actividad Extracurricular 04 Costos relacionados a los modelos de Lenguaje*\n",
    "\n",
    "*GR1CC*\n",
    "\n",
    "*FECHA DE ENTREGA 05 DE NOVIEMBRE DEL 2025*\n"
   ]
  },
  {
   "cell_type": "markdown",
   "id": "a85c318c",
   "metadata": {},
   "source": [
    "# *Indicaciones*\n",
    "\n",
    "*Investigue sobre las siguientes características para al menos 5 modelos de lenguaje comerciales (i.e. ChatGPT, Claude, Gemini, etc). Cree una tabla resumen* \n",
    "\n",
    "- ¿Qué es inferencia y entrenamiento, cuál es la diferencia?\n",
    "- Modelo de GPU utilizado/s\n",
    "- Costo del hardware (costo GPU x número de GPUs) en inferencia y entrenamiento\n",
    "- Tiempo de entrenamiento\n",
    "- Consumo energético (watts) en inferencia y entrenamiento."
   ]
  },
  {
   "cell_type": "markdown",
   "id": "8571da35",
   "metadata": {},
   "source": [
    " # *Que es inferencia y entrenamiento,  cual es la diferencia*\n",
    "\n",
    "la inferencia es un proceso con el cual podemos obtener conclusiones, realizar decuciones he interpretaciones  con la informacion disponible como datos, hechos y evidencias. la inferencia es una habilidad importante para la toma de decisiones, resolucion de conflictos y deducion de situaciones completas. la inferencia es una etapa en la que el modelo aplica los conocionmentos para entregar una respuesta o generar una prediccion. \n",
    "\n",
    "el entrenamiento son actividades de tipo sistematico y planificado para generar o mejorar capacidades especificas, tienede a ser una etapa en la que un modelo aprende en base a grandes cantidades de datos esta etapa es intensa y costosa.\n",
    "\n",
    "las inferencias se diferencian del entrenamiento por la aplicacion y uso, la respuesta o predicion, un dessarrollo en poco tiempo. En el entrenamiento se aprende y construye un modelo, trabaja con grandes volumenes de datos, tiende a ser costoso y siempre precede a la implementacion. "
   ]
  },
  {
   "cell_type": "markdown",
   "id": "bd816d6f",
   "metadata": {},
   "source": [
    "| Modelos de lenguaje | GPU utilizados  | Costo del Hadware | Tiempo de Entrenamiento | Consumo Energetico Entrenamiento | Consumo Energetico Inferencia | \n",
    "|---------------------|-----------------|-------------------|----------------------------------|-------------------------|-------------------------------|\n",
    "| GTP-4 (OpenAI)      | NVIDIA H100 O A1000| 500 $ millones USD| de 60 a 90 Dias      | 25.000 - 50.000 MWh             | Alto consumo por token de $20/1M|     \n",
    "| DeepSeek-V3 (DeepSeek)| NVIDIA H800 (2.048 unidades) | 5-20 $ millones USD | 60 dias| 10.7000 MWh | Bajo consumo por token de $1/1 M|\n",
    "| Claude 3 Opus (Anthropic)| NVIDIA H100 o A100| 200 $ millones USD| 45 - 60 dias | 15.000 - 30.000 MWh | Alto consumo por token de $ 75/1 M |\n",
    "| Gemini Ultra (Google)|Google TPUv4/v5 |N/A(Hardware propietario) |60 - 120 dias | 30.000 - 60.000 MWh | Optimizado por TPU\n",
    "|Llama 3 70B (Meta/Open)| NVIDIA H100(16.000 unidades)| 10 - 20 $ millones USD| 20 dias | 1.200 MWh | Modera puede ser auto-alojado |\n",
    "|Mixtral 8x22B(Minstral AI/ Open)| NVIDIA H100 | 5 - 10 $ millones USD | 14 -21 dias | 800 MWh | Bajo (optimizado  para MoE) |"
   ]
  },
  {
   "cell_type": "markdown",
   "id": "e8f39b78",
   "metadata": {},
   "source": [
    "# *link del repositorio de Git-hub*\n",
    "\n",
    "https://github.com/JuanfranPinto/Metodos-Numericos-"
   ]
  }
 ],
 "metadata": {
  "language_info": {
   "name": "python"
  }
 },
 "nbformat": 4,
 "nbformat_minor": 5
}
