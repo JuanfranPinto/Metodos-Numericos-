{
 "cells": [
  {
   "cell_type": "code",
   "execution_count": null,
   "id": "f2691b13",
   "metadata": {},
   "outputs": [],
   "source": [
    "MOD = 10**9 + 7\n",
    "\n",
    "def solve():\n",
    "    import sys\n",
    "    input = sys.stdin.readline\n",
    "    M = int(input().strip())\n",
    "    \n",
    "    p = [0] * (M + 1)\n",
    "    p[0] = 1\n",
    "    \n",
    "    # Precalculamos los números pentagonales generalizados\n",
    "    pent = []\n",
    "    k = 1\n",
    "    while True:\n",
    "        g1 = k * (3 * k - 1) // 2\n",
    "        g2 = k * (3 * k + 1) // 2\n",
    "        if g1 > M and g2 > M:\n",
    "            break\n",
    "        pent.append((g1, 1 if k % 2 else -1))\n",
    "        pent.append((g2, 1 if k % 2 else -1))\n",
    "        k += 1\n",
    "\n",
    "    # Calculamos p[n] usando la fórmula de Euler (O(M√M))\n",
    "    for n in range(1, M + 1):\n",
    "        total = 0\n",
    "        for g, sign in pent:\n",
    "            if n - g < 0:\n",
    "                break\n",
    "            total += sign * p[n - g]\n",
    "        p[n] = total % MOD\n",
    "\n",
    "    # f[n] = suma acumulada de p[n]\n",
    "    f = [0] * (M + 1)\n",
    "    for n in range(1, M + 1):\n",
    "        f[n] = (f[n - 1] + p[n]) % MOD\n",
    "\n",
    "    print(' '.join(map(str, f[1:])))\n",
    "    \n",
    "\n",
    "if __name__ == \"__main__\":\n",
    "    solve()\n",
    "\n"
   ]
  },
  {
   "cell_type": "code",
   "execution_count": null,
   "id": "8af8c490",
   "metadata": {},
   "outputs": [
    {
     "data": {
      "text/plain": [
       "2"
      ]
     },
     "execution_count": 2,
     "metadata": {},
     "output_type": "execute_result"
    }
   ],
   "source": [
    "# añadimnos restricciones para que el código no se ejecute al importarse "
   ]
  }
 ],
 "metadata": {
  "kernelspec": {
   "display_name": ".venv",
   "language": "python",
   "name": "python3"
  },
  "language_info": {
   "codemirror_mode": {
    "name": "ipython",
    "version": 3
   },
   "file_extension": ".py",
   "mimetype": "text/x-python",
   "name": "python",
   "nbconvert_exporter": "python",
   "pygments_lexer": "ipython3",
   "version": "3.12.10"
  }
 },
 "nbformat": 4,
 "nbformat_minor": 5
}
