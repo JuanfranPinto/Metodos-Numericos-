{
 "cells": [
  {
   "cell_type": "markdown",
   "id": "244317e3",
   "metadata": {},
   "source": [
    "<h3 style=\"text-align:center;\">ESCUELA POLITÉCNICA NACIONAL</h3>\n",
    "<h3 style=\"text-align:center;\">FACULTAD DE INGENIERÍA EN SISTEMAS</h3>\n",
    "<h3 style=\"text-align:center;\">METODOS NUMERICOS ICCD412 </h3>"
   ]
  },
  {
   "cell_type": "markdown",
   "id": "e465c9c5",
   "metadata": {},
   "source": [
    "**JUAN FRANCISCO PINTO ANDRANGO**\n",
    "\n",
    "**TAREA N 1** \n",
    "\n",
    "**GR1CC**\n",
    "\n",
    "**FECHA DE ENTREGA 29 DE OCUTBRE DEL 2025**\n"
   ]
  },
  {
   "cell_type": "code",
   "execution_count": null,
   "id": "baa13554",
   "metadata": {
    "vscode": {
     "languageId": "plaintext"
    }
   },
   "outputs": [],
   "source": []
  }
 ],
 "metadata": {
  "language_info": {
   "name": "python"
  }
 },
 "nbformat": 4,
 "nbformat_minor": 5
}
