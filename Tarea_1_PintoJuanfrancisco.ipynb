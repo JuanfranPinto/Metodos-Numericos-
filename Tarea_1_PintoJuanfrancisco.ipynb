{
 "cells": [
  {
   "cell_type": "markdown",
   "id": "244317e3",
   "metadata": {},
   "source": [
    "<h3 style=\"text-align:center;\">ESCUELA POLITÉCNICA NACIONAL</h3>\n",
    "<h3 style=\"text-align:center;\">FACULTAD DE INGENIERÍA EN SISTEMAS</h3>\n",
    "<h3 style=\"text-align:center;\">METODOS NUMERICOS ICCD412 </h3>"
   ]
  },
  {
   "cell_type": "markdown",
   "id": "e465c9c5",
   "metadata": {},
   "source": [
    "*JUAN FRANCISCO PINTO ANDRANGO*\n",
    "\n",
    "*TAREA N 1*\n",
    "\n",
    "*GR1CC*\n",
    "\n",
    "*FECHA DE ENTREGA 29 DE OCUTBRE DEL 2025*\n"
   ]
  },
  {
   "cell_type": "markdown",
   "id": "ccb81368",
   "metadata": {},
   "source": [
    "*Conjunto de Ejercicios 1*\n",
    "\n",
    "***Resuelva los siguientes ejercicios, tome en cuenta que debe mostrar el desarrollo completo del ejercicio***\n",
    "\n",
    "***Formulas para error-relativo y error-absoluto***\n",
    "\n",
    "### $erro_{abs}= | p - p^* |$\n",
    "\n",
    "### $ error_{rela} = | \\frac{p - p^*}{p}| , \\ne 0$\n",
    "\n",
    "***-a.  $p= \\pi , p^*= 22/7$***\n",
    "\n",
    "***-b.  $p= e , p^*= 2.718$*** \n",
    "\n",
    "***-c.  $p= \\pi , p^*= 3.1416$*** \n",
    "\n",
    "***-d.  $p= \\sqrt2 , p^*= 1.414$*** \n",
    "\n",
    "\n",
    "*En la resolucion de estos ejercicios se hara uso de la libreria ~[math]~ en python esto para la resolucion de operaciones matematicas avanzada como las Raíces cuadradas potencia y logaritmos tambien se las usara para las constantes matematicas y Redondeo y valores absolutos.*\n"
   ]
  },
  {
   "cell_type": "code",
   "execution_count": null,
   "id": "a6e8c355",
   "metadata": {},
   "outputs": [
    {
     "name": "stdout",
     "output_type": "stream",
     "text": [
      "error absoluto = 0.001264492857142585 error relativo = 0.0004025005778971965\n",
      "error absoluto = 0.0002818284590451192 error relativo = 0.00010367889601972718\n",
      "error absoluto = 7.349999999739509e-06 error relativo = 2.339577666041302e-06\n",
      "error absoluto = 0.00021356237309522186 error relativo = 0.00015101140222192286\n"
     ]
    }
   ],
   "source": [
    "import math\n",
    "euler = math.e\n",
    "pi = 3.14159265\n",
    "\n",
    "# ************* a *************\n",
    "p = pi\n",
    "p1 = 22/7\n",
    "\n",
    "errorabs = abs(p - p1)\n",
    "errorela = abs((p - p1)/p)\n",
    "print(\"error absoluto =\", errorabs , \"error relativo =\", errorela)\n",
    "\n",
    "# ************ b *************\n",
    "p1 = 2.718\n",
    "\n",
    "errorabs = abs(p - p1)\n",
    "errorela = abs((p - p1)/p)\n",
    "print(\"error absoluto =\", errorabs , \"error relativo =\", errorela)\n",
    "\n",
    "# ************ c *************  \n",
    "p = pi\n",
    "p1 = 3.1416\n",
    "\n",
    "errorabs = abs(p - p1)\n",
    "errorela = abs((p - p1)/p)\n",
    "print(\"error absoluto =\", errorabs , \"error relativo =\", errorela)\n",
    "\n",
    "# ************ d *************      \n",
    "p = math.sqrt(2)\n",
    "p1 = 1.414\n",
    "\n",
    "errorabs = abs(p - p1)\n",
    "errorela = abs((p - p1)/p)\n",
    "print(\"error absoluto =\", errorabs , \"error relativo =\", errorela)"
   ]
  },
  {
   "cell_type": "markdown",
   "id": "72120431",
   "metadata": {},
   "source": [
    "*2. Calcule los errores absoluto y relativo en las aproximaciones de  $p$ por $p^*$*\n",
    "\n",
    "- a. $p = e^{10} , p^* = 22000$\n",
    "\n",
    "- b. $p = 10^{\\pi} , p^* = 1400$\n",
    "\n",
    "- c. $p = 8! , p^* = 39900$\n",
    "\n",
    "- d. $p! , p^s* = \\sqrt{18\\pi}(9/e)^{9} $\n",
    "\n",
    " "
   ]
  },
  {
   "cell_type": "code",
   "execution_count": 9,
   "id": "30d708df",
   "metadata": {},
   "outputs": [
    {
     "name": "stdout",
     "output_type": "stream",
     "text": [
      "error absoluto = 26.465794806703343 error relativo = 0.0012015452253326688\n",
      "error absoluto = 14.544280084894353 error relativo = 0.010497831057195794\n",
      "error absoluto = 420 error relativo = 0.010416666666666666\n",
      "error absoluto = 3343.127363467007 error relativo = 0.009212762796150261\n"
     ]
    }
   ],
   "source": [
    "import math\n",
    "\n",
    "euler = math.e\n",
    "\n",
    "pi = 3.14159265\n",
    "\n",
    "\n",
    "# ********** a **********   \n",
    "p = euler ** 10\n",
    "p1 = 22000\n",
    "\n",
    "errorabs = abs(p - p1)\n",
    "errorela = abs((p - p1)/p)\n",
    "print(\"error absoluto =\", errorabs , \"error relativo =\", errorela)\n",
    "\n",
    "# ********* b **********     \n",
    "p = 10 ** pi\n",
    "p1 = 1400\n",
    "\n",
    "errorabs = abs(p - p1)\n",
    "errorela = abs((p - p1)/p)\n",
    "print(\"error absoluto =\", errorabs , \"error relativo =\", errorela)\n",
    "\n",
    "# ******** c **********     \n",
    "p = math.factorial(8)\n",
    "p1 = 39900\n",
    "\n",
    "errorabs = abs(p - p1)\n",
    "errorela = abs((p - p1)/p)\n",
    "print(\"error absoluto =\", errorabs , \"error relativo =\", errorela)\n",
    "\n",
    "# ******** d **********     \n",
    "p = math.factorial(9)\n",
    "p1 = math.sqrt(18 * pi) * (9/euler) ** 9\n",
    "\n",
    "errorabs = abs(p - p1)\n",
    "errorela = abs((p - p1)/p)\n",
    "print(\"error absoluto =\", errorabs , \"error relativo =\", errorela)"
   ]
  },
  {
   "cell_type": "markdown",
   "id": "877bdeda",
   "metadata": {},
   "source": [
    "*3. Encuentre el intervalo más largo en el que se debe encontrar $p^*$ para aproximarse a p con error relativo máximo de 10^-4 para cada valor de p*\n",
    "\n",
    "- Sabemos que el error relativo es \n",
    "\n",
    "- $ error_{rela} = | \\frac{p - p^*}{p} | \\leq 10^{-4}$\n",
    "\n",
    "- entonces por lo tanto tenemos que \n",
    "\n",
    "- $ | p -p^* | \\leq 10^{-4} |p| $\n",
    "\n",
    "- ahora como p > 0 , tenemo que $ p(1 - 10^{-4}) \\leq p^* p(1 +10^{-4})$\n",
    "\n",
    "**- a. $\\pi$**\n",
    "\n",
    "**- b. $e$**\n",
    "\n",
    "**- c. $\\sqrt2$**\n",
    "\n",
    "**- d. $\\sqrt[3]{7}$**\n",
    "\n",
    "\n",
    "\n",
    "\n",
    "\n"
   ]
  },
  {
   "cell_type": "code",
   "execution_count": 4,
   "id": "9eb76310",
   "metadata": {},
   "outputs": [
    {
     "name": "stdout",
     "output_type": "stream",
     "text": [
      "Intervalo = [ 3.1412784907350004 , 3.141906809265 ]\n",
      "Intervalo = [ 2.718010000276199 , 2.718553656641891 ]\n",
      "Intervalo = [ 1.4140721410168577 , 1.4143549837293325 ]\n",
      "Intervalo = [ 1.9127398896541117 , 1.9131224758906662 ]\n"
     ]
    }
   ],
   "source": [
    "import math\n",
    "euler = math.e\n",
    "pi = 3.14159265\n",
    "\n",
    "# ***************** a ******************\n",
    "p = pi\n",
    "\n",
    "limitinf= p * (1-10**-4)\n",
    "limitsup= p * (1+10**-4)\n",
    "\n",
    "print(\"Intervalo = [\", limitinf , \",\", limitsup, \"]\")\n",
    "\n",
    "# ******************* b ******************\n",
    "p = euler\n",
    "\n",
    "limitinf= p * (1-10**-4)\n",
    "limitsup= p * (1+10**-4)\n",
    "\n",
    "print(\"Intervalo = [\", limitinf , \",\", limitsup, \"]\")\n",
    "\n",
    "# ************** c  *********************\n",
    "p = math.sqrt(2)\n",
    "\n",
    "limitinf= p * (1-10**-4)\n",
    "limitsup= p * (1+10**-4)\n",
    "\n",
    "print(\"Intervalo = [\", limitinf , \",\", limitsup, \"]\")\n",
    "\n",
    "# ************** d  *********************\n",
    "p = 7 ** (1/3)\n",
    "\n",
    "limitinf= p * (1-10**-4)\n",
    "limitsup= p * (1+10**-4)\n",
    "\n",
    "print(\"Intervalo = [\", limitinf , \",\", limitsup, \"]\")"
   ]
  },
  {
   "cell_type": "markdown",
   "id": "ba0886c5",
   "metadata": {},
   "source": [
    "*4. Use la aritmética de redondeo de tres dígitos para realizar lo siguiente. Calcule los errores absoluto y relativo\n",
    "con el valor exacto determinado para por lo menos cinco dígitos*\n",
    "\n",
    "**-a. $ \\frac{\\frac{13}{14}  - \\frac{5}{7}}{2e-5.4} $**\n",
    "\n",
    "**-b. $ -10\\pi +6e - \\frac{3}{61} $**\n",
    "\n",
    "**-c. $ (\\frac{2}{9}) \\cdot (\\frac{9}{11}) $**\n",
    "\n",
    "**-d. $ \\frac{|sqrt{13} + \\sqrt{11}}{\\sqrt{13} - \\sqrt{11}} $**\n",
    "\n"
   ]
  },
  {
   "cell_type": "code",
   "execution_count": 5,
   "id": "a1a1861e",
   "metadata": {},
   "outputs": [
    {
     "name": "stdout",
     "output_type": "stream",
     "text": [
      "5.861 5.86062\n",
      "error absoluto = 0.00038 error relativo = 6.484e-05\n",
      "-15.155 -15.15542\n",
      "error absoluto = 0.00042 error relativo = 2.771e-05\n",
      "0.182 0.18182\n",
      "error absoluto = 0.00018 error relativo = 0.001\n",
      "23.958 23.95826\n",
      "error absoluto = 0.00026 error relativo = 1.085e-05\n"
     ]
    }
   ],
   "source": [
    "import math\n",
    "euler = math.e\n",
    "pi = 3.14159265\n",
    "\n",
    "# ************* a ************\n",
    "a = (13/14 - 5/7)/(2*euler-5.4)\n",
    "\n",
    "p = round(a,3)\n",
    "p1= round(a,5)\n",
    "print(p , p1 )\n",
    "\n",
    "errorabs = abs(p - p1)\n",
    "errorela = abs((p - p1)/p)\n",
    "print(\"error absoluto =\",  round(errorabs,5) , \"error relativo =\", round(errorela,8))\n",
    "\n",
    "# ************* b ************\n",
    "a = -10*pi + 6*euler - 3/61\n",
    "\n",
    "p = round(a,3)\n",
    "p1= round(a,5)\n",
    "print(p , p1 )\n",
    "\n",
    "errorabs = abs(p - p1)\n",
    "errorela = abs((p - p1)/p)\n",
    "print(\"error absoluto =\",  round(errorabs,5) , \"error relativo =\", round(errorela,8))\n",
    "\n",
    "\n",
    "# ************* c ************\n",
    "a = (2/9) * (9/11)\n",
    "\n",
    "p = round(a,3)\n",
    "p1= round(a,5)\n",
    "print(p , p1 )\n",
    "\n",
    "errorabs = abs(p - p1)\n",
    "errorela = abs((p - p1)/p)\n",
    "print(\"error absoluto =\",  round(errorabs,5) , \"error relativo =\", round(errorela,4))\n",
    "\n",
    "# ************* d ************\n",
    "a = (math.sqrt(13)+math.sqrt(11))/(math.sqrt(13)-math.sqrt(11))\n",
    "\n",
    "p = round(a,3)\n",
    "p1= round(a,5)\n",
    "print(p , p1 )\n",
    "\n",
    "errorabs = abs(p - p1)\n",
    "errorela = abs((p - p1)/p)\n",
    "print(\"error absoluto =\",  round(errorabs,5) , \"error relativo =\", round(errorela,8))"
   ]
  },
  {
   "cell_type": "markdown",
   "id": "5164bcad",
   "metadata": {},
   "source": [
    "*5. Los primeros tres términos diferentes a cero de la serie de Maclaurin para la función arcotangente son: $ x - (1/3)x^{3} + (1/5)x^{5} $ Calcule los errores absoluto y relativo en las siguientes aproximaciones de 𝜋 mediante el polinomio en lugar del arcotangente:*\n",
    "\n",
    "**-a. $ 4 [ arctan (\\frac{1}{2}) + arctan (\\frac{1}{3})]$**\n",
    "\n",
    "**-b. $ 16  arctan (\\frac{1}{5}) - 4 arctan (\\frac{1}{239})$**"
   ]
  },
  {
   "cell_type": "code",
   "execution_count": 6,
   "id": "60d3cb62",
   "metadata": {},
   "outputs": [
    {
     "name": "stdout",
     "output_type": "stream",
     "text": [
      "a)\n",
      "valor real: 3.141592653589793 valor aproximado: 3.1455761316872426\n",
      "error absoluto = 0.003983478097449478 error relativo = 0.0012679804598147663\n",
      "b)\n",
      "valor real: 3.141592653589793 valor aproximado: 3.1416210293250346\n",
      "error absoluto = 2.837573524150372e-05 error relativo = 9.032277055104427e-06\n"
     ]
    }
   ],
   "source": [
    "import math\n",
    "pi =  math.pi\n",
    "# *************** a ****************\n",
    "print(\"a)\")\n",
    "x1=1/2\n",
    "a= x1-(1/3)*x1**3 + (1/5)*x1**5\n",
    "x2= 1/3\n",
    "b= x2-(1/3)*x2**3 + (1/5)*x2**5\n",
    "\n",
    "\n",
    "p=pi\n",
    "p1= 4*(a+b)\n",
    "\n",
    "print(\"valor real:\",p ,\"valor aproximado:\", p1 )\n",
    "\n",
    "errorabs = abs(p - p1)\n",
    "errorela = abs((p - p1)/p)\n",
    "print(\"error absoluto =\",  errorabs , \"error relativo =\", errorela)\n",
    "\n",
    "# *************** b ****************\n",
    "print(\"b)\")\n",
    "x1=1/5\n",
    "a= x1-(1/3)*x1**3 + (1/5)*x1**5\n",
    "x2= 1/239\n",
    "b= x2-(1/3)*x2**3 + (1/5)*x2**5\n",
    "\n",
    "p=pi\n",
    "p1= (16*a-4*b)\n",
    "\n",
    "\n",
    "print(\"valor real:\",p ,\"valor aproximado:\", p1 )\n",
    "\n",
    "errorabs = abs(p - p1)\n",
    "errorela = abs((p - p1)/p)\n",
    "print(\"error absoluto =\",  errorabs , \"error relativo =\", errorela)"
   ]
  },
  {
   "cell_type": "markdown",
   "id": "40766a8c",
   "metadata": {},
   "source": [
    "*6. El número $e$ se puede definir por medio de $ e = \\sum_{n=0}^{\\infty} (1/n!) $ , donde $n! = n(n-1) ... 2 \\cdot 1$ para $n \\ne 0$ y $ 0! = 1$. Calcule los errores absoluto y relativo en la siguiente aproximación de $e$:*\n",
    "\n",
    "**-a. $\\sum_{n=0}^{5} (1/n!)$**\n",
    "\n",
    "**b. $\\sum_{n=0}^{10} (1/n!)$**"
   ]
  },
  {
   "cell_type": "code",
   "execution_count": 7,
   "id": "7d1baaa5",
   "metadata": {},
   "outputs": [
    {
     "name": "stdout",
     "output_type": "stream",
     "text": [
      "a)\n",
      "valor real: 2.718281828459045 valor aproximado: 2.716666666666667\n",
      "error absoluto = 0.0016151617923783057 error relativo = 0.0005941848175815963\n",
      "b)\n",
      "valor real: 2.718281828459045 valor aproximado: 2.7182818011463845\n",
      "error absoluto = 2.7312660577649694e-08 error relativo = 1.0047766310211053e-08\n"
     ]
    }
   ],
   "source": [
    "import math\n",
    "euler = math.e\n",
    "# ************* a ************\n",
    "print(\"a)\")\n",
    "p=euler\n",
    "p1= sum(1 / math.factorial(n) for n in range(6))\n",
    "\n",
    "print(\"valor real:\",p ,\"valor aproximado:\", p1 )\n",
    "\n",
    "errorabs = abs(p - p1)\n",
    "errorela = abs((p - p1)/p)\n",
    "print(\"error absoluto =\",  errorabs , \"error relativo =\", errorela)\n",
    "\n",
    "# ************** b ************\n",
    "print(\"b)\")\n",
    "p=euler\n",
    "p1= sum(1 / math.factorial(n) for n in range(11))\n",
    "\n",
    "print(\"valor real:\",p ,\"valor aproximado:\", p1 )\n",
    "\n",
    "errorabs = abs(p - p1)\n",
    "errorela = abs((p - p1)/p)\n",
    "print(\"error absoluto =\",  errorabs , \"error relativo =\", errorela)"
   ]
  },
  {
   "cell_type": "markdown",
   "id": "5f6e7906",
   "metadata": {},
   "source": [
    "*7. Suponga que dos puntos $(x_0 , y_0) (x_1 , y_1)$  se encuentran en línea recta con $y_1 \\ne y_0$. Existen dos fórmulas para encontrar la intersección $𝑥$ de la línea:*\n",
    "\n",
    "$ x = \\frac{x_0y_1 - x_1y_0}{y_1 - y_0} $ y $ x = x_0 - \\frac{(x_1 - x_0)y_0}{y_1 - y_0}$\n",
    "\n",
    "*a. Use los datos $(x_0 , y_0) = (1.31 , 3.24)$ y $(x_1 , y_1) = (1.93 , 5.76)$  y la aritmética de redondeo de tres dígitos para calcular la intersección con $x$ de ambas maneras. ¿Cuál método es mejor y por qué?*\n",
    "\n",
    "### *Formula 1.* \n",
    "\n",
    "$ x = \\frac{x_0y_1 - x_1y_0}{y_1 - y_0} $\n",
    "\n",
    "$ x = \\frac{(1.31) \\cdot (5.76) - (1.93)\\cdot (3.24)}{5.76 - 3.24} $\n",
    "\n",
    "$ x = \\frac{7.546 - 6.253}{2.52} $\n",
    "\n",
    "$ x = \\frac{1.293}{2.52} = 0.513$ \n",
    "\n",
    "### *Formula 2.*\n",
    "\n",
    "$ x = x_0 - \\frac{(x_1 - x_0)y_0}{y_1 - y_0}$\n",
    "\n",
    "$ x = 1.31 - \\frac{(1.93 - 1.31)3.24}{5.76 - 3.24}$\n",
    "\n",
    "$ x = 1.31 - \\frac{(0.62)3.24}{2.52}$\n",
    "    \n",
    "$ x = 1.31 - \\frac{2.009}{2.52}$\n",
    "\n",
    "$ x = 1.31 - 0.797 = 0.513$"
   ]
  },
  {
   "cell_type": "code",
   "execution_count": 8,
   "id": "d9046b5d",
   "metadata": {},
   "outputs": [
    {
     "name": "stdout",
     "output_type": "stream",
     "text": [
      "Primera Formula 0.513\n",
      "Segunda Formula 0.513\n"
     ]
    }
   ],
   "source": [
    "x0= 1.31\n",
    "y0= 3.24\n",
    "\n",
    "x1= 1.93 \n",
    "y1= 5.76\n",
    "\n",
    "# primera fórmula\n",
    "a = (x0*y1 - x1*y0)/(y1-y0)\n",
    "# Segunda fórmula\n",
    "b=  x0 - ((x1-x0)*y0)/(y1-y0)\n",
    "\n",
    "\n",
    "print(\"Primera Formula\", round(a,3))\n",
    "print(\"Segunda Formula\", round(b,3))\n"
   ]
  },
  {
   "cell_type": "markdown",
   "id": "e523046e",
   "metadata": {},
   "source": [
    "*La segunda fórmula trabaja de una manera más optimizada y numéricamente más estable. Notamos también que disminuye la propagación de errores como el redondeo cuando se realizan cálculos. Evita operaciones como la multiplicación, que pueden llegar a ampliar ciertos errores. Destaca también en el estructuramiento de operaciones para realizar precisión en las operaciones. Cabe aclarar que con ambas fórmulas se obtiene el mismo resultado, aunque podríamos llegar a obtener resultados diferentes cuando se trabaje con dígitos mayores*"
   ]
  },
  {
   "cell_type": "markdown",
   "id": "d128773a",
   "metadata": {},
   "source": [
    "<p><center>Insertar ecuaciones</center></p>\n",
    "\n",
    "| **Nombre**               | **Comando**                         | **Salida**                      |\n",
    "|--------------------------|-------------------------------------|---------------------------------|\n",
    "| Número simple            | `$123$`                             | $123$                           |\n",
    "| Decimal                  | `$3.14$`                            | $3.14$                          |\n",
    "| Fracción                 | `$\\frac{a}{b}$`                     | $\\frac{a}{b}$                   |\n",
    "| Potencia (exponente)     | `$x^2$`                             | $x^2$                           |\n",
    "| Raíz cuadrada            | `$\\sqrt{9}$`                        | $\\sqrt{9}$                      |\n",
    "| Raíz n-ésima             | `$\\sqrt[3]{8}$`                     | $\\sqrt[3]{8}$                   |\n",
    "| Notación científica      | `$5 \\times 10^6$`                   | $5 \\times 10^6$                 |\n",
    "| Multiplicación           | `$a \\times b$`                      | $a \\times b$                    |\n",
    "| División (símbolo ÷)     | `$a \\div b$`                        | $a \\div b$                      |\n",
    "| Igual                    | `$a = b$`                           | $a = b$                         |\n",
    "| No igual                 | `$a \\neq b$`                        | $a \\neq b$                      |\n",
    "| Menor que                | `$a < b$`                           | $a < b$                         |\n",
    "| Mayor que                | `$a > b$`                           | $a > b$                         |\n",
    "| Menor o igual que        | `$a \\leq b$`                        | $a \\leq b$                      |\n",
    "| Mayor o igual que        | `$a \\geq b$`                        | $a \\geq b$                      |\n",
    "| Aproximadamente igual    | `$a \\approx b$`                     | $a \\approx b$                   |\n",
    "| Más-menos (±)            | `$a \\pm b$`                         | $a \\pm b$                       |\n",
    "| Porcentaje               | `$50\\%$`                            | $50\\%$                          |\n",
    "| Proporcionalidad         | `$a \\propto b$`                     | $a \\propto b$                   |\n",
    "| Pertenencia (∈)          | `$a \\in B$`                         | $a \\in B$                       |\n",
    "| No pertenencia (∉)       | `$a \\notin B$`                      | $a \\notin B$                    |\n",
    "| Suma                     | `$\\sum_{i=1}^{n} i$`                | $\\sum_{i=1}^{n} i$              |\n",
    "| Producto (∏)             | `$\\prod_{i=1}^{n} i$`               | $\\prod_{i=1}^{n} i$             |\n",
    "| Límite                   | `$\\lim_{x \\to 0} f(x)$`             | $\\lim_{x \\to 0} f(x)$           |\n",
    "| Derivada simple          | `$\\frac{d}{dx}f(x)$`                | $\\frac{d}{dx}f(x)$              |\n",
    "| Derivada parcial         | `$\\frac{\\partial}{\\partial x}f(x,y)$`| $\\frac{\\partial}{\\partial x}f(x,y)$ |\n",
    "| Integral                 | `$\\int_a^b f(x)\\,dx$`               | $\\int_a^b f(x)\\,dx$             |\n",
    "| Paréntesis automáticos   | `$\\left( \\frac{a}{b} \\right)$`      | $\\left( \\frac{a}{b} \\right)$    |\n",
    "| Corchetes automáticos    | `$\\left[ \\frac{a}{b} \\right]$`      | $\\left[ \\frac{a}{b} \\right]$    |\n",
    "| Llaves automáticas       | `$\\left\\{ \\frac{a}{b} \\right\\}$`    | $\\left\\{ \\frac{a}{b} \\right\\}$  |\n",
    "| Vector                   | `$\\vec{v}$`                         | $\\vec{v}$                       |\n",
    "| Matriz simple            | `$\\begin{matrix}a & b\\\\c & d\\end{matrix}$` | $\\begin{matrix}a & b\\\\c & d\\end{matrix} $|\n"
   ]
  },
  {
   "cell_type": "markdown",
   "id": "389c3810",
   "metadata": {},
   "source": [
    "**link del repositorio de git-hub**\n",
    "\n",
    "https://github.com/JuanfranPinto/Metodos-Numericos-"
   ]
  }
 ],
 "metadata": {
  "kernelspec": {
   "display_name": ".venv",
   "language": "python",
   "name": "python3"
  },
  "language_info": {
   "codemirror_mode": {
    "name": "ipython",
    "version": 3
   },
   "file_extension": ".py",
   "mimetype": "text/x-python",
   "name": "python",
   "nbconvert_exporter": "python",
   "pygments_lexer": "ipython3",
   "version": "3.12.10"
  }
 },
 "nbformat": 4,
 "nbformat_minor": 5
}
