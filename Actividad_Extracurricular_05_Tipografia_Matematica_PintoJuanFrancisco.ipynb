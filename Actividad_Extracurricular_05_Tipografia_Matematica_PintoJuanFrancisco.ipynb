{
 "cells": [
  {
   "cell_type": "markdown",
   "id": "51fe8ab0",
   "metadata": {},
   "source": [
    "<h3 style=\"text-align:center;\">ESCUELA POLITÉCNICA NACIONAL</h3>\n",
    "<h3 style=\"text-align:center;\">FACULTAD DE INGENIERÍA EN SISTEMAS</h3>\n",
    "<h3 style=\"text-align:center;\">METODOS NUMERICOS ICCD412 </h3>"
   ]
  },
  {
   "cell_type": "markdown",
   "id": "0d858ae1",
   "metadata": {},
   "source": [
    "*JUAN FRANCISCO PINTO ANDRANGO*\n",
    "\n",
    "*Actividad Extracurricular 05 Tipografía matematica*\n",
    "\n",
    "*GR1CC*\n",
    "\n",
    "*FECHA DE ENTREGA 05 DE NOVIEMBRE DEL 2025*"
   ]
  },
  {
   "cell_type": "markdown",
   "id": "1b9e2a16",
   "metadata": {},
   "source": [
    "# Actividades\n",
    "- *Investigar sobre los atajos de teclado para ingresar ecuaciones matemáticas en Word y Latex.*\n",
    "- *Realizar una tabla incluyendo al menos 30 símbolos.*"
   ]
  },
  {
   "cell_type": "markdown",
   "id": "e80e0c17",
   "metadata": {},
   "source": [
    "# *Atajos de teclado para ecuaciones matemáticas en Word y LaTeX*\n",
    "\n",
    "- *Para **Word**, presiona `Alt + =` para entrar al modo ecuacion*\n",
    "\n",
    "- *Para  **LaTeX**, usa `$ ... $` para ecuaciones en línea o `$$ ... $$` para ecuaciones centradas*\n",
    "\n",
    "\n",
    "\n",
    "\n",
    "| Símbolo | Descripción | **Atajo en Word (modo ecuación)** | **Código en LaTeX** |\n",
    "|----------|--------------|----------------------------------|---------------------|\n",
    "| \\\\( \\\\alpha \\\\) | Letra griega alfa | `\\alpha` + espacio | `\\alpha` |\n",
    "| \\\\( \\\\beta \\\\) | Letra griega beta | `\\beta` + espacio | `\\beta` |\n",
    "| \\\\( \\\\gamma \\\\) | Letra griega gamma | `\\gamma` + espacio | `\\gamma` |\n",
    "| \\\\( \\\\pi \\\\) | Letra griega pi | `\\pi` + espacio | `\\pi` |\n",
    "| \\\\( \\\\theta \\\\) | Letra griega theta | `\\theta` + espacio | `\\theta` |\n",
    "| \\\\( \\\\sum \\\\) | Sumatoria | `\\sum` + espacio | `\\sum` |\n",
    "| \\\\( \\\\int \\\\) | Integral | `\\int` + espacio | `\\int` |\n",
    "| \\\\( \\\\sqrt{x} \\\\) | Raíz cuadrada | `\\sqrt{x}` | `\\sqrt{x}` |\n",
    "| \\\\( \\\\infty \\\\) | Infinito | `\\infty` + espacio | `\\infty` |\n",
    "| \\\\( \\\\leq \\\\) | Menor o igual | `\\leq` + espacio | `\\leq` |\n",
    "| \\\\( \\\\geq \\\\) | Mayor o igual | `\\geq` + espacio | `\\geq` |\n",
    "| \\\\( \\\\neq \\\\) | Diferente | `\\neq` + espacio | `\\neq` |\n",
    "| \\\\( \\\\pm \\\\) | Más/menos | `\\pm` + espacio | `\\pm` |\n",
    "| \\\\( \\\\times \\\\) | Multiplicación | `\\times` + espacio | `\\times` |\n",
    "| \\\\( \\\\div \\\\) | División | `\\div` + espacio | `\\div` |\n",
    "| \\\\( \\\\cdot \\\\) | Producto punto | `\\cdot` + espacio | `\\cdot` |\n",
    "| \\\\( \\\\approx \\\\) | Aproximadamente igual | `\\approx` + espacio | `\\approx` |\n",
    "| \\\\( \\\\equiv \\\\) | Idéntico a | `\\equiv` + espacio | `\\equiv` |\n",
    "| \\\\( \\\\propto \\\\) | Proporcional a | `\\propto` + espacio | `\\propto` |\n",
    "| \\\\( \\\\subset \\\\) | Subconjunto | `\\subset` + espacio | `\\subset` |\n",
    "| \\\\( \\\\supset \\\\) | Superconjunto | `\\supset` + espacio | `\\supset` |\n",
    "| \\\\( \\\\in \\\\) | Pertenece a | `\\in` + espacio | `\\in` |\n",
    "| \\\\( \\\\notin \\\\) | No pertenece a | `\\notin` + espacio | `\\notin` |\n",
    "| \\\\( \\\\Rightarrow \\\\) | Implica | `\\Rightarrow` + espacio | `\\Rightarrow` |\n",
    "| \\\\( \\\\Leftrightarrow \\\\) | Si y solo si | `\\Leftrightarrow` + espacio | `\\Leftrightarrow` |\n",
    "| \\\\( \\\\forall \\\\) | Para todo | `\\forall` + espacio | `\\forall` |\n",
    "| \\\\( \\\\exists \\\\) | Existe | `\\exists` + espacio | `\\exists` |\n",
    "| \\\\( \\\\nabla \\\\) | Nabla (gradiente) | `\\nabla` + espacio | `\\nabla` |\n",
    "| \\\\( \\\\partial \\\\) | Derivada parcial | `\\partial` + espacio | `\\partial` |\n",
    "| \\\\( \\\\overrightarrow{AB} \\\\) | Vector | `\\vec{AB}` | `\\overrightarrow{AB}` |\n"
   ]
  },
  {
   "cell_type": "markdown",
   "id": "5109d5b6",
   "metadata": {},
   "source": [
    "# link del repositorio de Git-Hub\n",
    "\n",
    "https://github.com/JuanfranPinto/Metodos-Numericos-\n"
   ]
  }
 ],
 "metadata": {
  "language_info": {
   "name": "python"
  }
 },
 "nbformat": 4,
 "nbformat_minor": 5
}
